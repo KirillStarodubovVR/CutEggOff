{
 "cells": [
  {
   "cell_type": "code",
   "execution_count": 1,
   "metadata": {},
   "outputs": [],
   "source": [
    "import pandas as pd\n",
    "import pickle\n",
    "from tqdm import tqdm"
   ]
  },
  {
   "cell_type": "code",
   "execution_count": 3,
   "metadata": {},
   "outputs": [],
   "source": [
    "with open(file=\"data_from_russian_accentuation/wordforms.dat\", mode='rb') as f:\n",
    "    wordforms = pickle.loads(f.read())"
   ]
  },
  {
   "cell_type": "code",
   "execution_count": 4,
   "metadata": {},
   "outputs": [],
   "source": [
    "df = pd.read_csv('all_accents.tsv', sep='\\t', names=['word', 'accentuated'])"
   ]
  },
  {
   "cell_type": "code",
   "execution_count": 5,
   "metadata": {},
   "outputs": [
    {
     "name": "stdout",
     "output_type": "stream",
     "text": [
      "-де́\n",
      "­вы́черкнуть\n",
      "абажу́ре\n",
      "а́бадсалок\n"
     ]
    }
   ],
   "source": [
    "texts = ['-д^е', '\\xadв^ычеркнуть', 'абаж^уре', '^абадсалок']\n",
    "def add_accent(text):\n",
    "    accent_pos = text.find('^')\n",
    "    return text[:accent_pos] + text[accent_pos+1] + '\\u0301' + text[accent_pos+2:]\n",
    "\n",
    "for text in texts:\n",
    "    print(add_accent(text))"
   ]
  },
  {
   "cell_type": "code",
   "execution_count": 6,
   "metadata": {},
   "outputs": [
    {
     "data": {
      "text/html": [
       "<div>\n",
       "<style scoped>\n",
       "    .dataframe tbody tr th:only-of-type {\n",
       "        vertical-align: middle;\n",
       "    }\n",
       "\n",
       "    .dataframe tbody tr th {\n",
       "        vertical-align: top;\n",
       "    }\n",
       "\n",
       "    .dataframe thead th {\n",
       "        text-align: right;\n",
       "    }\n",
       "</style>\n",
       "<table border=\"1\" class=\"dataframe\">\n",
       "  <thead>\n",
       "    <tr style=\"text-align: right;\">\n",
       "      <th></th>\n",
       "      <th>word</th>\n",
       "      <th>accentuated</th>\n",
       "      <th>with_accent</th>\n",
       "    </tr>\n",
       "  </thead>\n",
       "  <tbody>\n",
       "    <tr>\n",
       "      <th>1205849</th>\n",
       "      <td>прокуривайся</td>\n",
       "      <td>прок^уривайся</td>\n",
       "      <td>проку́ривайся</td>\n",
       "    </tr>\n",
       "    <tr>\n",
       "      <th>1635555</th>\n",
       "      <td>шахриар</td>\n",
       "      <td>шахри^ар</td>\n",
       "      <td>шахриа́р</td>\n",
       "    </tr>\n",
       "    <tr>\n",
       "      <th>593115</th>\n",
       "      <td>крошащий</td>\n",
       "      <td>крош^ащий</td>\n",
       "      <td>кроша́щий</td>\n",
       "    </tr>\n",
       "    <tr>\n",
       "      <th>1332786</th>\n",
       "      <td>рукописи</td>\n",
       "      <td>р^укописи</td>\n",
       "      <td>ру́кописи</td>\n",
       "    </tr>\n",
       "    <tr>\n",
       "      <th>1283087</th>\n",
       "      <td>расклеивавшийся</td>\n",
       "      <td>раскл^еивавшийся</td>\n",
       "      <td>раскле́ивавшийся</td>\n",
       "    </tr>\n",
       "    <tr>\n",
       "      <th>51680</th>\n",
       "      <td>архонтом</td>\n",
       "      <td>арх^онтом</td>\n",
       "      <td>архо́нтом</td>\n",
       "    </tr>\n",
       "    <tr>\n",
       "      <th>1290643</th>\n",
       "      <td>располосовывают</td>\n",
       "      <td>располос^овывают</td>\n",
       "      <td>располосо́вывают</td>\n",
       "    </tr>\n",
       "    <tr>\n",
       "      <th>743908</th>\n",
       "      <td>натруживает</td>\n",
       "      <td>натр^уживает</td>\n",
       "      <td>натру́живает</td>\n",
       "    </tr>\n",
       "    <tr>\n",
       "      <th>259989</th>\n",
       "      <td>генуинный</td>\n",
       "      <td>гену^инный</td>\n",
       "      <td>генуи́нный</td>\n",
       "    </tr>\n",
       "    <tr>\n",
       "      <th>1677931</th>\n",
       "      <td>янсенистским</td>\n",
       "      <td>янсен^истским</td>\n",
       "      <td>янсени́стским</td>\n",
       "    </tr>\n",
       "  </tbody>\n",
       "</table>\n",
       "</div>"
      ],
      "text/plain": [
       "                    word       accentuated       with_accent\n",
       "1205849     прокуривайся     прок^уривайся     проку́ривайся\n",
       "1635555          шахриар          шахри^ар          шахриа́р\n",
       "593115          крошащий         крош^ащий         кроша́щий\n",
       "1332786         рукописи         р^укописи         ру́кописи\n",
       "1283087  расклеивавшийся  раскл^еивавшийся  раскле́ивавшийся\n",
       "51680           архонтом         арх^онтом         архо́нтом\n",
       "1290643  располосовывают  располос^овывают  располосо́вывают\n",
       "743908       натруживает      натр^уживает      натру́живает\n",
       "259989         генуинный        гену^инный        генуи́нный\n",
       "1677931     янсенистским     янсен^истским     янсени́стским"
      ]
     },
     "execution_count": 6,
     "metadata": {},
     "output_type": "execute_result"
    }
   ],
   "source": [
    "df['with_accent'] = df['accentuated'].apply(add_accent)\n",
    "df.sample(10)"
   ]
  },
  {
   "cell_type": "code",
   "execution_count": 7,
   "metadata": {},
   "outputs": [],
   "source": [
    "dictionary2add = dict(zip(df['word'], df['with_accent']))\n",
    "wordforms_keys = set(wordforms.keys())\n",
    "dictionary2add_keys = set(dictionary2add.keys()).difference(wordforms_keys)"
   ]
  },
  {
   "cell_type": "code",
   "execution_count": 8,
   "metadata": {},
   "outputs": [
    {
     "name": "stderr",
     "output_type": "stream",
     "text": [
      "100%|██████████| 1185267/1185267 [00:14<00:00, 84229.95it/s] "
     ]
    },
    {
     "name": "stdout",
     "output_type": "stream",
     "text": [
      "before: 638365, after: 1823632 (x3)\n"
     ]
    },
    {
     "name": "stderr",
     "output_type": "stream",
     "text": [
      "\n"
     ]
    }
   ],
   "source": [
    "len_before = len(wordforms)\n",
    "for key in tqdm(dictionary2add_keys):\n",
    "    wordforms[key] = [{'accentuated': dictionary2add[key], \n",
    "                        'form': '',\n",
    "                        'lemma': ''}]\n",
    "\n",
    "len_after = len(wordforms)\n",
    "print(f'before: {len_before}, after: {len_after} (x{round(len_after/len_before)})')"
   ]
  },
  {
   "cell_type": "code",
   "execution_count": 9,
   "metadata": {},
   "outputs": [],
   "source": [
    "with open('wordforms_plus_all_accents.dat', 'wb') as f:\n",
    "    pickle.dump(wordforms, f)"
   ]
  },
  {
   "cell_type": "code",
   "execution_count": 2,
   "metadata": {},
   "outputs": [
    {
     "name": "stdout",
     "output_type": "stream",
     "text": [
      "1823632\n"
     ]
    }
   ],
   "source": [
    "with open('wordforms_plus_all_accents.dat', 'rb') as f:\n",
    "    w = pickle.load(f)\n",
    "\n",
    "print(len(w))"
   ]
  },
  {
   "cell_type": "code",
   "execution_count": 3,
   "metadata": {},
   "outputs": [
    {
     "data": {
      "text/plain": [
       "[{'accentuated': 'раскле́ивавшийся', 'form': '', 'lemma': ''}]"
      ]
     },
     "execution_count": 3,
     "metadata": {},
     "output_type": "execute_result"
    }
   ],
   "source": [
    "w['расклеивавшийся']"
   ]
  }
 ],
 "metadata": {
  "kernelspec": {
   "display_name": "venv",
   "language": "python",
   "name": "python3"
  },
  "language_info": {
   "codemirror_mode": {
    "name": "ipython",
    "version": 3
   },
   "file_extension": ".py",
   "mimetype": "text/x-python",
   "name": "python",
   "nbconvert_exporter": "python",
   "pygments_lexer": "ipython3",
   "version": "3.10.12"
  }
 },
 "nbformat": 4,
 "nbformat_minor": 2
}
